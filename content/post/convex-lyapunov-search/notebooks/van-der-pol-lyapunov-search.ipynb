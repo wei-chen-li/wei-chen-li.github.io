{
 "cells": [
  {
   "cell_type": "code",
   "execution_count": null,
   "metadata": {
    "id": "S_CcUlUaPqAz"
   },
   "outputs": [],
   "source": [
    "!pip install sympy SumOfSquares qics"
   ]
  },
  {
   "cell_type": "code",
   "execution_count": 1,
   "metadata": {},
   "outputs": [],
   "source": [
    "import matplotlib.pyplot as plt\n",
    "import numpy as np\n",
    "import sympy as sp\n",
    "import scipy.integrate, scipy.linalg, scipy.optimize\n",
    "from SumOfSquares import SOSProblem"
   ]
  },
  {
   "cell_type": "markdown",
   "metadata": {},
   "source": [
    "The time-reversed van der Pol oscillator is governed by\n",
    "\n",
    "$$\n",
    "\\begin{align*}\n",
    "  \\dot{x}_1 &= -x_2 ,  \\\\\n",
    "  \\dot{x}_2 &= x_1 + (x_1^2 - 1) x_2 .\n",
    "\\end{align*}\n",
    "$$"
   ]
  },
  {
   "cell_type": "code",
   "execution_count": 2,
   "metadata": {},
   "outputs": [],
   "source": [
    "def time_reversed_vanderpol_dynamics(x):\n",
    "    from copy import deepcopy\n",
    "    x_dot = deepcopy(x)\n",
    "    x_dot[0] = -x[1]\n",
    "    x_dot[1] = x[0] + (x[0]**2 - 1) * x[1]\n",
    "    return x_dot"
   ]
  },
  {
   "cell_type": "markdown",
   "metadata": {},
   "source": [
    "#### Helper functions"
   ]
  },
  {
   "cell_type": "code",
   "execution_count": 3,
   "metadata": {},
   "outputs": [],
   "source": [
    "def vanderpol_limit_cycle():\n",
    "    sol = scipy.integrate.solve_ivp(\n",
    "        lambda t,x: -time_reversed_vanderpol_dynamics(x),\n",
    "        t_span=[0,20],\n",
    "        y0=[2.01989138,0],\n",
    "        max_step=1e-2,\n",
    "        events=lambda t,x: x[1]\n",
    "    )\n",
    "    t_start, t_end = sol.t_events[0][-3], sol.t_events[0][-1]\n",
    "    mask = np.logical_and(t_start <= sol.t, sol.t <= t_end)\n",
    "    x1, x2 = sol.y[0,mask], sol.y[1,mask]\n",
    "    return x1, x2\n",
    "\n",
    "def sublevel_set(U, num_points=101):\n",
    "    \"\"\"returns the boundary of the sublevel set where U(x1,x2) <= 1\n",
    "    \"\"\"\n",
    "    theta = np.linspace(0, 2*np.pi, num_points)\n",
    "    r = np.zeros_like(theta)\n",
    "    for i in range(len(theta)-1):\n",
    "        f = lambda r: U(r*np.cos(theta[i]), r*np.sin(theta[i])) - 1\n",
    "        r[i] = scipy.optimize.root_scalar(f, method='bisect', bracket=[0.0,100.0]).root\n",
    "    r[-1] = r[0]\n",
    "    return r * np.cos(theta), r * np.sin(theta)"
   ]
  },
  {
   "cell_type": "code",
   "execution_count": 4,
   "metadata": {},
   "outputs": [],
   "source": [
    "def freePolynomial(vars, degrees) -> sp.Expr:\n",
    "    from itertools import combinations_with_replacement\n",
    "    if not hasattr(freePolynomial, 'i'):\n",
    "        freePolynomial.i = 0\n",
    "    poly = sp.S(0)\n",
    "    for degree in range(0, degrees+1):\n",
    "        for comb in combinations_with_replacement(vars, degree):\n",
    "            if degree == 0:\n",
    "                comb = [sp.S(1)]\n",
    "            freePolynomial.i += 1\n",
    "            poly += sp.symbols(f'c_{freePolynomial.i}', real=True) * sp.prod(comb)\n",
    "    return poly\n",
    "\n",
    "def freeSymmetricMatrix(n, name) -> sp.Matrix:\n",
    "    M = sp.zeros(n)\n",
    "    for j in range(n):\n",
    "        for i in range(j,n):\n",
    "            M[i,j] = M[j,i] = sp.symbols(f'{name}_{{{i+1}{j+1}}}')\n",
    "    return M"
   ]
  },
  {
   "cell_type": "markdown",
   "metadata": {},
   "source": [
    "### Quadratic approximation of the region of attraction"
   ]
  },
  {
   "cell_type": "code",
   "execution_count": 5,
   "metadata": {},
   "outputs": [
    {
     "name": "stdout",
     "output_type": "stream",
     "text": [
      "Update rho to 2.2362105907658725\n",
      "Update P to\n",
      "[[ 0.67077737 -0.2235924 ]\n",
      " [-0.2235924   0.44718503]]\n",
      "Update rho to 1.0305278242264295\n",
      "Update P to\n",
      "[[ 0.65090659 -0.21696885]\n",
      " [-0.21696885  0.43393781]]\n"
     ]
    }
   ],
   "source": [
    "x1, x2 = sp.symbols('x_1 x_2')\n",
    "x = sp.Matrix([x1, x2])\n",
    "x_dot = time_reversed_vanderpol_dynamics(x)\n",
    "\n",
    "def updateMutiplizers(P):\n",
    "    V = (x.T @ P).dot(x)\n",
    "    V_dot = 2 * (x.T @ P).dot(x_dot)\n",
    "\n",
    "    rho = sp.symbols(r'\\rho')\n",
    "    _lambda = freePolynomial([x1,x2], 0)\n",
    "\n",
    "    prob = SOSProblem()\n",
    "    prob.add_sos_constraint(x.dot(x) * (V - rho) + _lambda * V_dot, [x1,x2])\n",
    "    prob.set_objective('max', prob.sym_to_var(rho))\n",
    "    prob.solve(solver='qics')\n",
    "\n",
    "    return float(prob.subs_with_sol(rho)), prob.subs_with_sol(_lambda)\n",
    "\n",
    "def updateLyapunov(_lambda, P_old):\n",
    "    P = freeSymmetricMatrix(P_old.shape[0], 'p')\n",
    "    V = (x.T @ P).dot(x)\n",
    "    V_dot = 2 * (x.T @ P).dot(x_dot)\n",
    "\n",
    "    prob = SOSProblem()\n",
    "    prob.add_sos_constraint(sp.expand(x.dot(x) * (V - 1) + _lambda * V_dot), [x1,x2])\n",
    "    prob.add_sos_constraint(V, [x1,x2])\n",
    "    prob.set_objective('max', prob.sp_to_picos(-(np.linalg.inv(P_old) * P).trace()))\n",
    "    prob.solve(solver='qics')\n",
    "\n",
    "    return np.array(prob.subs_with_sol(P), dtype=float)\n",
    "\n",
    "\n",
    "A = np.mat('0 -1; 1 -1') # linearization of time_reversed_vanderpol_dynamics\n",
    "P = scipy.linalg.solve_continuous_lyapunov(A.T, -np.diag([1,2])) # A.T @ P + P @ A = -diag([1 2])\n",
    "\n",
    "V_record = []\n",
    "while True:\n",
    "    rho, _lambda = updateMutiplizers(P)\n",
    "    P = P / rho\n",
    "    print(\"Update rho to\", rho)\n",
    "    V_record.append((x.T @ P).dot(x))\n",
    "\n",
    "    P_old = P\n",
    "    P = updateLyapunov(_lambda, P_old)\n",
    "    print(\"Update P to\")\n",
    "    print(P)\n",
    "    V_record.append((x.T @ P).dot(x))\n",
    "\n",
    "    if np.linalg.norm(P - P_old, np.inf) < 1e-6:\n",
    "        break"
   ]
  },
  {
   "cell_type": "code",
   "execution_count": 6,
   "metadata": {},
   "outputs": [
    {
     "data": {
      "image/png": "[encoded data removed]",
      "text/plain": [
       "<Figure size 640x480 with 1 Axes>"
      ]
     },
     "metadata": {},
     "output_type": "display_data"
    }
   ],
   "source": [
    "plt.fill(*vanderpol_limit_cycle(), color=[1,0.5,0.5])\n",
    "plt.fill(*sublevel_set(sp.lambdify([x1,x2], V_record[-1])), color=[0.5,1.0,0.5])\n",
    "plt.fill(*sublevel_set(sp.lambdify([x1,x2], V_record[0])),  color=[1.0,1.0,0.5])\n",
    "\n",
    "plt.xlabel('$x_1$')\n",
    "plt.ylabel('$x_2$')\n",
    "plt.gca().set_aspect('equal')\n",
    "plt.show()"
   ]
  },
  {
   "cell_type": "markdown",
   "metadata": {},
   "source": [
    "### Quartic approximation of the region of attraction"
   ]
  },
  {
   "cell_type": "code",
   "execution_count": null,
   "metadata": {},
   "outputs": [],
   "source": [
    "x1, x2 = sp.symbols('x_1 x_2')\n",
    "x = sp.Matrix([x1, x2])\n",
    "x_dot = time_reversed_vanderpol_dynamics(x)\n",
    "\n",
    "z = sp.Matrix([x1, x2, x1**2, x2**2])\n",
    "z_dot = [x_dot[0], x_dot[1], 2*x1*x_dot[0], 2*x2*x_dot[1]]\n",
    "\n",
    "def updateMutiplizers(P):\n",
    "    V = (z.T @ P).dot(z) # degree-4\n",
    "    V_dot = 2 * (z.T @ P).dot(z_dot) # degree-6\n",
    "\n",
    "    rho = sp.symbols(r'\\rho')\n",
    "    _lambda = freePolynomial([x1,x2], 0)\n",
    "\n",
    "    prob = SOSProblem()\n",
    "    prob.add_sos_constraint(x.dot(x) * (V - rho) + _lambda * V_dot, [x1,x2])\n",
    "    prob.set_objective('max', prob.sym_to_var(rho))\n",
    "    prob.solve(solver='qics')\n",
    "\n",
    "    return float(prob.subs_with_sol(rho)), prob.subs_with_sol(_lambda)\n",
    "\n",
    "def updateLyapunov(_lambda, P_old):\n",
    "    P = freeSymmetricMatrix(P_old.shape[0], 'p')\n",
    "    V = (z.T @ P).dot(z)\n",
    "    V_dot = 2 * (z.T @ P).dot(z_dot)\n",
    "\n",
    "    prob = SOSProblem()\n",
    "    prob.add_sos_constraint(sp.expand(x.dot(x) * (V - 1) + _lambda * V_dot), [x1,x2])\n",
    "    prob.add_sos_constraint(V, [x1,x2])\n",
    "    prob.set_objective('max', prob.sp_to_picos(-(np.linalg.inv(P_old) * P).trace()))\n",
    "    prob.solve(solver='qics', primals=None)\n",
    "    print(\"Status: \", prob.status)\n",
    "\n",
    "    return np.array(prob.subs_with_sol(P), dtype=float)\n",
    "\n",
    "\n",
    "A = np.mat('0 -1; 1 -1') # linearization of time_reversed_vanderpol_dynamics\n",
    "P = scipy.linalg.solve_continuous_lyapunov(A.T, -np.diag([1,2])) # A.T @ P + P @ A = -diag([1 2])\n",
    "P = np.block([[P, np.zeros((2,2))], [np.zeros((2,2)), np.diag([1e-6,1e-6])]])\n",
    "\n",
    "V_record = []\n",
    "while True:\n",
    "    rho, _lambda = updateMutiplizers(P)\n",
    "    P = P / rho\n",
    "    print(\"Update rho to\", rho)\n",
    "    V_record.append((z.T @ P).dot(z))\n",
    "\n",
    "    P_old = P\n",
    "    P = updateLyapunov(_lambda, P_old)\n",
    "    print(\"Update P to\")\n",
    "    print(P)\n",
    "    V_record.append((z.T @ P).dot(z))\n",
    "\n",
    "    if np.linalg.norm(P - P_old, np.inf) < 1e-6:\n",
    "        break"
   ]
  },
  {
   "cell_type": "code",
   "execution_count": null,
   "metadata": {},
   "outputs": [],
   "source": [
    "plt.fill(*vanderpol_limit_cycle(), color=[1,0.5,0.5])\n",
    "plt.fill(*sublevel_set(sp.lambdify([x1,x2], V_record[-2])),  color=[0.0,0.5,1.0])\n",
    "\n",
    "plt.rcParams['text.usetex'] = True\n",
    "plt.xlabel('$x_1$', fontsize=20)\n",
    "plt.ylabel('$x_2$', fontsize=20)\n",
    "plt.tick_params(axis='both', which='major', labelsize=14)\n",
    "plt.gca().set_aspect('equal')\n",
    "# plt.savefig('fjiodlj.svg', transparent=True, bbox_inches='tight')\n",
    "plt.show()"
   ]
  }
 ],
 "metadata": {
  "colab": {
   "provenance": []
  },
  "kernelspec": {
   "display_name": "Python 3",
   "language": "python",
   "name": "python3"
  },
  "language_info": {
   "codemirror_mode": {
    "name": "ipython",
    "version": 3
   },
   "file_extension": ".py",
   "mimetype": "text/x-python",
   "name": "python",
   "nbconvert_exporter": "python",
   "pygments_lexer": "ipython3",
   "version": "3.10.12"
  }
 },
 "nbformat": 4,
 "nbformat_minor": 0
}
