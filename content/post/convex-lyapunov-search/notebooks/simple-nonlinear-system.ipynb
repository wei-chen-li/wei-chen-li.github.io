{
 "cells": [
  {
   "cell_type": "code",
   "execution_count": null,
   "metadata": {
    "id": "S_CcUlUaPqAz"
   },
   "outputs": [],
   "source": [
    "!pip install cvxpy\n",
    "!pip install sympy SumOfSquares"
   ]
  },
  {
   "cell_type": "markdown",
   "metadata": {
    "id": "WW4tTmkbPqA0"
   },
   "source": [
    "In this notebook, we search for a Lyapunov function $V(\\boldsymbol{x})$ that certifies the stability of the nonlinear system:\n",
    "\n",
    "$$\n",
    "\\begin{align*}\n",
    "  \\dot{x}_1 &= -x_1 - 2 x_2^2 ,  \\\\\n",
    "  \\dot{x}_2 &= -x_2 - x_1 x_2 - 2 x_2^3 .\n",
    "\\end{align*}\n",
    "$$\n",
    "\n",
    "We parameterize the Lyapunov function as\n",
    "\n",
    "$$\n",
    "V(\\boldsymbol{x}) = \\frac{1}{2} \\boldsymbol{x}^\\top \\underbrace{\\begin{bmatrix} p_{11} & p_{21} \\\\ p_{21} & p_{22} \\end{bmatrix}}_{\\mathbf{P}} \\boldsymbol{x} .\n",
    "$$\n",
    "\n",
    "The time-derivative of the Lyapunov function is\n",
    "\n",
    "$$\n",
    "\\dot{V}(\\boldsymbol{x}) = \\boldsymbol{x}^\\top \\mathbf{P} \\dot{\\boldsymbol{x}} .\n",
    "$$\n",
    "\n",
    "For Lyapunov stability, $V(\\boldsymbol{x})$ must be positive, and $\\dot{V}(\\boldsymbol{x})$ must be negative."
   ]
  },
  {
   "cell_type": "markdown",
   "metadata": {
    "id": "gjMDIafcPqA1"
   },
   "source": [
    "### Using semi-definite programming (SDP)"
   ]
  },
  {
   "cell_type": "code",
   "execution_count": 1,
   "metadata": {
    "colab": {
     "base_uri": "https://localhost:8080/"
    },
    "executionInfo": {
     "elapsed": 3244,
     "status": "ok",
     "timestamp": 1737704425166,
     "user": {
      "displayName": "韋辰李",
      "userId": "06290912477929704131"
     },
     "user_tz": -480
    },
    "id": "eYmy_UK7PqA2",
    "outputId": "54a2c8a0-dbf5-4303-a026-abfbf5fad606"
   },
   "outputs": [
    {
     "name": "stdout",
     "output_type": "stream",
     "text": [
      "Status:  optimal\n",
      "P:\n",
      " [[1.00000000e+00 8.37553130e-22]\n",
      " [8.37553130e-22 2.00010433e+00]]\n"
     ]
    }
   ],
   "source": [
    "import cvxpy as cp\n",
    "\n",
    "P = cp.Variable((2, 2), symmetric=True)\n",
    "Q = cp.Variable((4, 4), symmetric=True)\n",
    "\n",
    "constraints = [\n",
    "    P >> 0,\n",
    "    Q >> 0,\n",
    "    Q[0,0] == P[0,0],\n",
    "    Q[1,0] == P[1,0],\n",
    "    Q[1,1] == P[1,1],\n",
    "    Q[2,0] == 0.5 * P[1,0],\n",
    "    Q[2,1] + Q[3,0] == P[0,0] + 0.5 * P[1,1],\n",
    "    Q[2,2] == 0,\n",
    "    Q[3,1] == P[1,0],\n",
    "    Q[3,2] == 2 * P[1,0],\n",
    "    Q[3,3] == 2 * P[1,1],\n",
    "    P[0,0] == 1, # fix p_11 to 1\n",
    "]\n",
    "\n",
    "prob = cp.Problem(cp.Minimize(0), constraints)\n",
    "prob.solve(solver=cp.CVXOPT)\n",
    "\n",
    "print(\"Status: \", prob.status)\n",
    "print(\"P:\\n\", P.value)"
   ]
  },
  {
   "cell_type": "markdown",
   "metadata": {
    "id": "YROhjXWRPqA2"
   },
   "source": [
    "### Using sum of squares (SOS) programming"
   ]
  },
  {
   "cell_type": "code",
   "execution_count": 2,
   "metadata": {
    "colab": {
     "base_uri": "https://localhost:8080/"
    },
    "executionInfo": {
     "elapsed": 3746,
     "status": "ok",
     "timestamp": 1737704432566,
     "user": {
      "displayName": "韋辰李",
      "userId": "06290912477929704131"
     },
     "user_tz": -480
    },
    "id": "TdRs84M4PqA2",
    "outputId": "d0c1d212-b6ad-497b-e645-4c6ba3fb9364"
   },
   "outputs": [
    {
     "name": "stdout",
     "output_type": "stream",
     "text": [
      "Status:  optimal\n",
      "P:\n",
      " [[ 1.00000000e+00 -5.49550564e-07]\n",
      " [-5.49550564e-07  1.99161535e+00]]\n"
     ]
    }
   ],
   "source": [
    "import numpy\n",
    "import sympy as sp\n",
    "from SumOfSquares import SOSProblem\n",
    "\n",
    "x1, x2 = sp.symbols('x_1 x_2')\n",
    "x = sp.Matrix([[x1], [x2]])\n",
    "\n",
    "x1_dot = -x1 - 2 * x2**2\n",
    "x2_dot = -x2 - x1 * x2 - 2 * x2**3\n",
    "x_dot = sp.Matrix([[x1_dot], [x2_dot]])\n",
    "\n",
    "p11, p21, p22 = sp.symbols('p_{11} p_{21} p_{22}')\n",
    "P = sp.Matrix(\n",
    "    [[p11, p21],\n",
    "     [p21, p22]])\n",
    "\n",
    "V = 0.5 * x.T @ P @ x\n",
    "V_dot = x.T @ P @ x_dot\n",
    "\n",
    "prob = SOSProblem()\n",
    "prob.add_sos_constraint(V[0], [x1, x2])\n",
    "prob.add_sos_constraint(-V_dot[0], [x1, x2])\n",
    "prob.add_constraint(prob.sym_to_var(p11) == 1) # fix p_11 to 1\n",
    "\n",
    "prob.solve(solver='cvxopt')\n",
    "\n",
    "print(\"Status: \", prob.status)\n",
    "print(\"P:\\n\", numpy.array(\n",
    "    [[prob.sym_to_var(p11).value, prob.sym_to_var(p21).value],\n",
    "     [prob.sym_to_var(p21).value, prob.sym_to_var(p22).value]]))"
   ]
  }
 ],
 "metadata": {
  "colab": {
   "provenance": []
  },
  "kernelspec": {
   "display_name": "Python 3",
   "language": "python",
   "name": "python3"
  },
  "language_info": {
   "codemirror_mode": {
    "name": "ipython",
    "version": 3
   },
   "file_extension": ".py",
   "mimetype": "text/x-python",
   "name": "python",
   "nbconvert_exporter": "python",
   "pygments_lexer": "ipython3",
   "version": "3.10.12"
  }
 },
 "nbformat": 4,
 "nbformat_minor": 0
}
